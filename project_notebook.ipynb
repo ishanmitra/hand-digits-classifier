{
 "cells": [
  {
   "attachments": {},
   "cell_type": "markdown",
   "metadata": {},
   "source": [
    "# Introduction\n",
    "\n",
    "In this project, you will build a neural network of your own design to evaluate the MNIST dataset.\n",
    "\n",
    "Some of the benchmark results on MNIST include can be found [on Yann LeCun's page](http://yann.lecun.com/exdb/mnist/) and include:\n",
    "\n",
    "88% [Lecun et al., 1998](http://yann.lecun.com/exdb/publis/pdf/lecun-98.pdf)\n",
    "95.3% [Lecun et al., 1998](http://yann.lecun.com/exdb/publis/pdf/lecun-98.pdf)\n",
    "99.65% [Ciresan et al., 2011](http://people.idsia.ch/~juergen/ijcai2011.pdf)\n",
    "\n",
    "MNIST is a great dataset for sanity checking your models, since the accuracy levels achieved by large convolutional neural networks and small linear models are both quite high. This makes it important to be familiar with the data.\n",
    "\n",
    "## Imports"
   ]
  },
  {
   "cell_type": "code",
   "execution_count": 1,
   "metadata": {},
   "outputs": [],
   "source": [
    "## This cell contains the essential imports you will need – DO NOT CHANGE THE CONTENTS! ##\n",
    "import torch\n",
    "import torch.nn as nn\n",
    "import torch.nn.functional as F\n",
    "import torch.optim as optim\n",
    "import torchvision\n",
    "import torchvision.transforms as transforms\n",
    "import matplotlib.pyplot as plt\n",
    "import numpy as np"
   ]
  },
  {
   "attachments": {},
   "cell_type": "markdown",
   "metadata": {},
   "source": [
    "## Load the Dataset\n",
    "\n",
    "Specify your transforms as a list if you intend to .\n",
    "The transforms module is already loaded as `transforms`.\n",
    "\n",
    "MNIST is fortunately included in the torchvision module.\n",
    "Then, you can create your dataset using the `MNIST` object from `torchvision.datasets` ([the documentation is available here](https://pytorch.org/vision/stable/datasets.html#mnist)).\n",
    "Make sure to specify `download=True`! \n",
    "\n",
    "Once your dataset is created, you'll also need to define a `DataLoader` from the `torch.utils.data` module for both the train and the test set."
   ]
  },
  {
   "cell_type": "code",
   "execution_count": 2,
   "metadata": {},
   "outputs": [],
   "source": [
    "# Define transforms\n",
    "# Define a transform to normalize the data\n",
    "transform = transforms.Compose([transforms.ToTensor(), transforms.Normalize((0.5,), (0.5,)),])\n",
    "\n",
    "# Create training set\n",
    "trainset = torchvision.datasets.MNIST('~/.pytorch/MNIST_data/', download=True, train=True, transform=transform)\n",
    "\n",
    "# Create test set and define test dataloader\n",
    "testset = torchvision.datasets.MNIST('~/.pytorch/MNIST_data/', download=True, train=False, transform=transform)\n",
    "test_loader = torch.utils.data.DataLoader(testset, batch_size=64, shuffle=True)"
   ]
  },
  {
   "cell_type": "markdown",
   "metadata": {},
   "source": [
    "Split training dataset to training and validation dataset"
   ]
  },
  {
   "cell_type": "code",
   "execution_count": 3,
   "metadata": {},
   "outputs": [],
   "source": [
    "TRAIN_RATIO = 0.75\n",
    "\n",
    "train_size = int(TRAIN_RATIO * len(trainset))\n",
    "test_size = len(trainset) - train_size\n",
    "train_dataset, valid_dataset = torch.utils.data.random_split(trainset, [train_size, test_size])"
   ]
  },
  {
   "cell_type": "code",
   "execution_count": 4,
   "metadata": {},
   "outputs": [
    {
     "name": "stdout",
     "output_type": "stream",
     "text": [
      "Size of training dataset:  45000\n",
      "Size of validation dataset:  15000\n"
     ]
    }
   ],
   "source": [
    "# Print size of split training and validation dataset\n",
    "print(\"Size of training dataset: \", len(train_dataset))\n",
    "print(\"Size of validation dataset: \", len(valid_dataset))"
   ]
  },
  {
   "cell_type": "code",
   "execution_count": 5,
   "metadata": {},
   "outputs": [],
   "source": [
    "train_loader = torch.utils.data.DataLoader(train_dataset, batch_size=64, shuffle=True)\n",
    "valid_loader = torch.utils.data.DataLoader(valid_dataset, batch_size=64, shuffle=True)"
   ]
  },
  {
   "cell_type": "code",
   "execution_count": 6,
   "metadata": {},
   "outputs": [
    {
     "name": "stdout",
     "output_type": "stream",
     "text": [
      "Size of training data subset:  704\n",
      "Size of validation data subset:  235\n"
     ]
    }
   ],
   "source": [
    "# Print size of split training and validation dataset\n",
    "print(\"Size of training data subset: \", len(train_loader))\n",
    "print(\"Size of validation data subset: \", len(valid_loader))"
   ]
  },
  {
   "cell_type": "code",
   "execution_count": 7,
   "metadata": {},
   "outputs": [
    {
     "name": "stdout",
     "output_type": "stream",
     "text": [
      "<class 'torch.Tensor'>\n",
      "Shape of image:  torch.Size([64, 1, 28, 28])\n",
      "Shape of label:  torch.Size([64])\n"
     ]
    }
   ],
   "source": [
    "# Print shape of image dataset and label from training dataloader\n",
    "dataiter = iter(train_loader)\n",
    "images, labels = next(dataiter)\n",
    "print(type(images))\n",
    "print(\"Shape of image: \", images.shape)\n",
    "print(\"Shape of label: \", labels.shape)"
   ]
  },
  {
   "attachments": {},
   "cell_type": "markdown",
   "metadata": {},
   "source": [
    "## Justify your preprocessing\n",
    "\n",
    "In your own words, why did you choose the transforms you chose? If you didn't use any preprocessing steps, why not?"
   ]
  },
  {
   "attachments": {},
   "cell_type": "markdown",
   "metadata": {},
   "source": [
    "The ToTensor transform converts the pixel data to tensor which the model can interpret.  \n",
    "The Normalize transform then brings the image data within the range of [-1, 1]"
   ]
  },
  {
   "attachments": {},
   "cell_type": "markdown",
   "metadata": {},
   "source": [
    "## Explore the Dataset\n",
    "Using matplotlib, numpy, and torch, explore the dimensions of your data.\n",
    "\n",
    "You can view images using the `show5` function defined below – it takes a data loader as an argument.\n",
    "Remember that normalized images will look really weird to you! You may want to try changing your transforms to view images.\n",
    "Typically using no transforms other than `toTensor()` works well for viewing – but not as well for training your network.\n",
    "If `show5` doesn't work, go back and check your code for creating your data loaders and your training/test sets."
   ]
  },
  {
   "cell_type": "code",
   "execution_count": 8,
   "metadata": {},
   "outputs": [],
   "source": [
    "## This cell contains a function for showing 5 images from a dataloader – DO NOT CHANGE THE CONTENTS! ##\n",
    "def show5(img_loader):\n",
    "    dataiter = iter(img_loader)\n",
    "    \n",
    "    batch = next(dataiter)\n",
    "    labels = batch[1][0:5]\n",
    "    images = batch[0][0:5]\n",
    "    for i in range(5):\n",
    "        print(int(labels[i].detach()))\n",
    "    \n",
    "        image = images[i].numpy()\n",
    "        plt.imshow(image.T.squeeze().T)\n",
    "        plt.show()"
   ]
  },
  {
   "cell_type": "code",
   "execution_count": 9,
   "metadata": {},
   "outputs": [
    {
     "name": "stdout",
     "output_type": "stream",
     "text": [
      "1\n"
     ]
    },
    {
     "data": {
      "image/png": "[encoded data removed]",
      "text/plain": [
       "<Figure size 640x480 with 1 Axes>"
      ]
     },
     "metadata": {},
     "output_type": "display_data"
    },
    {
     "name": "stdout",
     "output_type": "stream",
     "text": [
      "1\n"
     ]
    },
    {
     "data": {
      "image/png": "[encoded data removed]",
      "text/plain": [
       "<Figure size 640x480 with 1 Axes>"
      ]
     },
     "metadata": {},
     "output_type": "display_data"
    },
    {
     "name": "stdout",
     "output_type": "stream",
     "text": [
      "0\n"
     ]
    },
    {
     "data": {
      "image/png": "[encoded data removed]",
      "text/plain": [
       "<Figure size 640x480 with 1 Axes>"
      ]
     },
     "metadata": {},
     "output_type": "display_data"
    },
    {
     "name": "stdout",
     "output_type": "stream",
     "text": [
      "8\n"
     ]
    },
    {
     "data": {
      "image/png": "[encoded data removed]",
      "text/plain": [
       "<Figure size 640x480 with 1 Axes>"
      ]
     },
     "metadata": {},
     "output_type": "display_data"
    },
    {
     "name": "stdout",
     "output_type": "stream",
     "text": [
      "3\n"
     ]
    },
    {
     "data": {
      "image/png": "[encoded data removed]",
      "text/plain": [
       "<Figure size 640x480 with 1 Axes>"
      ]
     },
     "metadata": {},
     "output_type": "display_data"
    }
   ],
   "source": [
    "# Explore data\n",
    "show5(train_loader)"
   ]
  },
  {
   "attachments": {},
   "cell_type": "markdown",
   "metadata": {},
   "source": [
    "## Build your Neural Network\n",
    "Using the layers in `torch.nn` (which has been imported as `nn`) and the `torch.nn.functional` module (imported as `F`), construct a neural network based on the parameters of the dataset.\n",
    "Use any architecture you like. \n",
    "\n",
    "*Note*: If you did not flatten your tensors in your transforms or as part of your preprocessing and you are using only `Linear` layers, make sure to use the `Flatten` layer in your network!"
   ]
  },
  {
   "cell_type": "code",
   "execution_count": 10,
   "metadata": {},
   "outputs": [],
   "source": [
    "class NetworkNLLL(nn.Module):\n",
    "    def __init__(self):\n",
    "        super().__init__()\n",
    "\n",
    "        # Flatten layer\n",
    "        self.flat = nn.Flatten()\n",
    "        \n",
    "        # Input layer to Hidden Layer 1\n",
    "        self.fc1 = nn.Linear(784, 128)\n",
    "        \n",
    "        # Hidden Layer 1 to Hidden Layer 2\n",
    "        self.fc2 = nn.Linear(128, 64)\n",
    "        \n",
    "        # Hidden Layer 2 to Output Layer\n",
    "        self.fc3 = nn.Linear(64, 10)\n",
    "\n",
    "    def forward(self, x):\n",
    "        # Flatten layer\n",
    "        x = self.flat(x)\n",
    "\n",
    "        # Hidden Layer 1 ReLU activation\n",
    "        x = F.relu(self.fc1(x))\n",
    "        \n",
    "        # Hidden Layer 2 ReLU activation\n",
    "        x = F.relu(self.fc2(x))\n",
    "        \n",
    "        # Output Layer Log Softmax activation\n",
    "        x = F.log_softmax(self.fc3(x), dim=1)\n",
    "        \n",
    "        return x"
   ]
  },
  {
   "attachments": {},
   "cell_type": "markdown",
   "metadata": {},
   "source": [
    "Specify a loss function and an optimizer, and instantiate the model.\n",
    "\n",
    "If you use a less common loss function, please note why you chose that loss function in a comment."
   ]
  },
  {
   "cell_type": "code",
   "execution_count": 11,
   "metadata": {},
   "outputs": [],
   "source": [
    "model = NetworkNLLL()\n",
    "criterion = nn.NLLLoss()\n",
    "optimizer = optim.Adam(model.parameters(), lr=0.001)"
   ]
  },
  {
   "attachments": {},
   "cell_type": "markdown",
   "metadata": {},
   "source": [
    "## Running your Neural Network\n",
    "Use whatever method you like to train your neural network, and ensure you record the average loss at each epoch. \n",
    "Don't forget to use `torch.device()` and the `.to()` method for both your model and your data if you are using GPU!\n",
    "\n",
    "If you want to print your loss **during** each epoch, you can use the `enumerate` function and print the loss after a set number of batches. 250 batches works well for most people!"
   ]
  },
  {
   "cell_type": "code",
   "execution_count": 12,
   "metadata": {},
   "outputs": [
    {
     "data": {
      "text/plain": [
       "True"
      ]
     },
     "execution_count": 12,
     "metadata": {},
     "output_type": "execute_result"
    }
   ],
   "source": [
    "torch.cuda.is_available()"
   ]
  },
  {
   "cell_type": "code",
   "execution_count": 13,
   "metadata": {},
   "outputs": [
    {
     "data": {
      "text/plain": [
       "device(type='cuda')"
      ]
     },
     "execution_count": 13,
     "metadata": {},
     "output_type": "execute_result"
    }
   ],
   "source": [
    "device = torch.device(\"cuda\" if torch.cuda.is_available() else \"cpu\")\n",
    "device"
   ]
  },
  {
   "cell_type": "code",
   "execution_count": 14,
   "metadata": {},
   "outputs": [
    {
     "data": {
      "text/plain": [
       "NetworkNLLL(\n",
       "  (flat): Flatten(start_dim=1, end_dim=-1)\n",
       "  (fc1): Linear(in_features=784, out_features=128, bias=True)\n",
       "  (fc2): Linear(in_features=128, out_features=64, bias=True)\n",
       "  (fc3): Linear(in_features=64, out_features=10, bias=True)\n",
       ")"
      ]
     },
     "execution_count": 14,
     "metadata": {},
     "output_type": "execute_result"
    }
   ],
   "source": [
    "model.to(device)"
   ]
  },
  {
   "attachments": {},
   "cell_type": "markdown",
   "metadata": {},
   "source": [
    "Plot the training loss (and validation loss/accuracy, if recorded)."
   ]
  },
  {
   "cell_type": "code",
   "execution_count": 15,
   "metadata": {},
   "outputs": [
    {
     "name": "stdout",
     "output_type": "stream",
     "text": [
      "Epoch 1 training accuracy: 55.41% training loss: 0.44989\n",
      "Epoch 1 validation accuracy: 58.27% validation loss: 0.27035\n",
      "Epoch 2 training accuracy: 59.52% training loss: 0.22584\n",
      "Epoch 2 validation accuracy: 60.06% validation loss: 0.18709\n",
      "Epoch 3 training accuracy: 60.72% training loss: 0.16348\n",
      "Epoch 3 validation accuracy: 60.54% validation loss: 0.16857\n",
      "Epoch 4 training accuracy: 61.25% training loss: 0.13588\n",
      "Epoch 4 validation accuracy: 60.84% validation loss: 0.14337\n",
      "Epoch 5 training accuracy: 61.74% training loss: 0.11142\n",
      "Epoch 5 validation accuracy: 61.12% validation loss: 0.13207\n"
     ]
    }
   ],
   "source": [
    "num_epochs = 5\n",
    "\n",
    "# Establish a list for our history\n",
    "train_loss_history = list()\n",
    "val_loss_history = list()\n",
    "\n",
    "for epoch in range(num_epochs):\n",
    "    model.train()\n",
    "    train_loss = 0.0\n",
    "    train_correct = 0\n",
    "    for i, data in enumerate(train_loader):\n",
    "        # data is a list of [inputs, labels]\n",
    "        inputs, labels = data\n",
    "\n",
    "        # Pass to GPU if available.\n",
    "        inputs, labels = inputs.to(device), labels.to(device)\n",
    "\n",
    "        optimizer.zero_grad()\n",
    "\n",
    "        outputs = model(inputs)\n",
    "        loss = criterion(outputs, labels)\n",
    "        loss.backward()\n",
    "        optimizer.step()\n",
    "\n",
    "        _, preds = torch.max(outputs.data, 1)\n",
    "        train_correct += (preds == labels).sum().item()\n",
    "        train_loss += loss.item()\n",
    "    print(f'Epoch {epoch + 1} training accuracy: {train_correct/len(train_loader):.2f}% training loss: {train_loss/len(train_loader):.5f}')\n",
    "    train_loss_history.append(train_loss/len(train_loader))\n",
    "\n",
    "\n",
    "    val_loss = 0.0\n",
    "    val_correct = 0\n",
    "    model.eval()\n",
    "    for inputs, labels in valid_loader:\n",
    "        inputs, labels = inputs.to(device), labels.to(device)\n",
    "\n",
    "        outputs = model(inputs)\n",
    "        loss = criterion(outputs, labels)\n",
    "\n",
    "        _, preds = torch.max(outputs.data, 1)\n",
    "        val_correct += (preds == labels).sum().item()\n",
    "        val_loss += loss.item()\n",
    "    print(f'Epoch {epoch + 1} validation accuracy: {val_correct/len(valid_loader):.2f}% validation loss: {val_loss/len(valid_loader):.5f}')\n",
    "    val_loss_history.append(val_loss/len(valid_loader))"
   ]
  },
  {
   "cell_type": "code",
   "execution_count": 16,
   "metadata": {},
   "outputs": [
    {
     "data": {
      "image/png": "[encoded data removed]",
      "text/plain": [
       "<Figure size 640x480 with 1 Axes>"
      ]
     },
     "metadata": {},
     "output_type": "display_data"
    }
   ],
   "source": [
    "# Plot the training and validation loss history\n",
    "plt.plot(train_loss_history, label=\"Training Loss\")\n",
    "plt.plot(val_loss_history, label=\"Validation Loss\")\n",
    "plt.legend()\n",
    "plt.show()"
   ]
  },
  {
   "attachments": {},
   "cell_type": "markdown",
   "metadata": {},
   "source": [
    "## Testing your model\n",
    "Using the previously created `DataLoader` for the test set, compute the percentage of correct predictions using the highest probability prediction. \n",
    "\n",
    "If your accuracy is over 90%, great work, but see if you can push a bit further! \n",
    "If your accuracy is under 90%, you'll need to make improvements.\n",
    "Go back and check your model architecture, loss function, and optimizer to make sure they're appropriate for an image classification task."
   ]
  },
  {
   "cell_type": "code",
   "execution_count": 17,
   "metadata": {},
   "outputs": [
    {
     "name": "stdout",
     "output_type": "stream",
     "text": [
      "Test accuracy: 0.960\n"
     ]
    }
   ],
   "source": [
    "test_loss = 0\n",
    "accuracy = 0\n",
    "model.to(device)\n",
    "\n",
    "with torch.no_grad():\n",
    "    for inputs, labels in test_loader:\n",
    "        inputs, labels = inputs.to(device), labels.to(device)\n",
    "        \n",
    "        log_ps = model.forward(inputs)\n",
    "        batch_loss = criterion(log_ps, labels)\n",
    "                    \n",
    "        test_loss += batch_loss.item()\n",
    "                    \n",
    "        ps = torch.exp(log_ps)\n",
    "        top_p, top_class = ps.topk(1, dim=1)\n",
    "        equals = top_class == labels.view(*top_class.shape)\n",
    "        accuracy += torch.mean(equals.type(torch.FloatTensor)).item()\n",
    "        \n",
    "print(f\"Test accuracy: {accuracy/len(test_loader):.3f}\")"
   ]
  },
  {
   "attachments": {},
   "cell_type": "markdown",
   "metadata": {},
   "source": [
    "## Improving your model\n",
    "\n",
    "Once your model is done training, try tweaking your hyperparameters and training again below to improve your accuracy on the test set!"
   ]
  },
  {
   "cell_type": "code",
   "execution_count": 18,
   "metadata": {},
   "outputs": [],
   "source": [
    "class NetworkCEL(nn.Module):\n",
    "    def __init__(self):\n",
    "        super().__init__()\n",
    "\n",
    "        # Flatten layer\n",
    "        self.flat = nn.Flatten()\n",
    "        \n",
    "        # Input layer to Hidden Layer 1\n",
    "        self.fc1 = nn.Linear(784, 128)\n",
    "        \n",
    "        # Hidden Layer 1 to Hidden Layer 2\n",
    "        self.fc2 = nn.Linear(128, 64)\n",
    "        \n",
    "        # Hidden Layer 2 to Output Layer\n",
    "        self.fc3 = nn.Linear(64, 10)\n",
    "\n",
    "    def forward(self, x):\n",
    "        # Flatten layer\n",
    "        x = self.flat(x)\n",
    "\n",
    "        # Hidden Layer 1 ReLU activation\n",
    "        x = F.relu(self.fc1(x))\n",
    "        \n",
    "        # Hidden Layer 2 ReLU activation\n",
    "        x = F.relu(self.fc2(x))\n",
    "\n",
    "        # Output layer logit\n",
    "        x = self.fc3(x)\n",
    "        \n",
    "        return x"
   ]
  },
  {
   "cell_type": "code",
   "execution_count": 19,
   "metadata": {},
   "outputs": [
    {
     "data": {
      "text/plain": [
       "NetworkCEL(\n",
       "  (flat): Flatten(start_dim=1, end_dim=-1)\n",
       "  (fc1): Linear(in_features=784, out_features=128, bias=True)\n",
       "  (fc2): Linear(in_features=128, out_features=64, bias=True)\n",
       "  (fc3): Linear(in_features=64, out_features=10, bias=True)\n",
       ")"
      ]
     },
     "execution_count": 19,
     "metadata": {},
     "output_type": "execute_result"
    }
   ],
   "source": [
    "model = NetworkCEL()\n",
    "criterion = nn.CrossEntropyLoss()\n",
    "optimizer = optim.Adam(model.parameters(), lr=0.001)\n",
    "\n",
    "model.to(device)"
   ]
  },
  {
   "cell_type": "code",
   "execution_count": 20,
   "metadata": {},
   "outputs": [
    {
     "name": "stdout",
     "output_type": "stream",
     "text": [
      "Epoch 1 training accuracy: 55.63% training loss: 0.44226\n",
      "Epoch 1 validation accuracy: 58.57% validation loss: 0.26880\n",
      "Epoch 2 training accuracy: 59.50% training loss: 0.22616\n",
      "Epoch 2 validation accuracy: 60.04% validation loss: 0.19353\n",
      "Epoch 3 training accuracy: 60.83% training loss: 0.16435\n",
      "Epoch 3 validation accuracy: 60.69% validation loss: 0.15234\n",
      "Epoch 4 training accuracy: 61.37% training loss: 0.12945\n",
      "Epoch 4 validation accuracy: 60.90% validation loss: 0.13277\n",
      "Epoch 5 training accuracy: 61.86% training loss: 0.10409\n",
      "Epoch 5 validation accuracy: 61.29% validation loss: 0.12293\n",
      "Epoch 6 training accuracy: 62.12% training loss: 0.09107\n",
      "Epoch 6 validation accuracy: 61.04% validation loss: 0.13432\n",
      "Epoch 7 training accuracy: 62.27% training loss: 0.08144\n",
      "Epoch 7 validation accuracy: 61.68% validation loss: 0.10079\n",
      "Epoch 8 training accuracy: 62.45% training loss: 0.07320\n",
      "Epoch 8 validation accuracy: 61.67% validation loss: 0.10200\n",
      "Epoch 9 training accuracy: 62.56% training loss: 0.06432\n",
      "Epoch 9 validation accuracy: 61.42% validation loss: 0.12201\n",
      "Epoch 10 training accuracy: 62.72% training loss: 0.05795\n",
      "Epoch 10 validation accuracy: 61.80% validation loss: 0.08908\n",
      "Epoch 11 training accuracy: 62.81% training loss: 0.05306\n",
      "Epoch 11 validation accuracy: 61.78% validation loss: 0.09342\n",
      "Epoch 12 training accuracy: 62.86% training loss: 0.04990\n",
      "Epoch 12 validation accuracy: 61.92% validation loss: 0.09757\n",
      "Epoch 13 training accuracy: 62.98% training loss: 0.04435\n",
      "Epoch 13 validation accuracy: 61.59% validation loss: 0.11597\n",
      "Epoch 14 training accuracy: 63.01% training loss: 0.04169\n",
      "Epoch 14 validation accuracy: 61.92% validation loss: 0.09871\n",
      "Epoch 15 training accuracy: 63.08% training loss: 0.03914\n",
      "Epoch 15 validation accuracy: 61.96% validation loss: 0.09661\n",
      "Epoch 16 training accuracy: 63.14% training loss: 0.03432\n",
      "Epoch 16 validation accuracy: 61.78% validation loss: 0.11016\n",
      "Epoch 17 training accuracy: 63.14% training loss: 0.03578\n",
      "Epoch 17 validation accuracy: 61.75% validation loss: 0.12332\n",
      "Epoch 18 training accuracy: 63.23% training loss: 0.03046\n",
      "Epoch 18 validation accuracy: 61.87% validation loss: 0.11696\n",
      "Epoch 19 training accuracy: 63.27% training loss: 0.02933\n",
      "Epoch 19 validation accuracy: 61.94% validation loss: 0.12093\n",
      "Epoch 20 training accuracy: 63.22% training loss: 0.03197\n",
      "Epoch 20 validation accuracy: 62.10% validation loss: 0.10889\n",
      "Epoch 21 training accuracy: 63.34% training loss: 0.02589\n",
      "Epoch 21 validation accuracy: 61.95% validation loss: 0.11823\n",
      "Epoch 22 training accuracy: 63.38% training loss: 0.02511\n",
      "Epoch 22 validation accuracy: 61.39% validation loss: 0.14550\n",
      "Epoch 23 training accuracy: 63.34% training loss: 0.02622\n",
      "Epoch 23 validation accuracy: 61.78% validation loss: 0.13199\n",
      "Epoch 24 training accuracy: 63.42% training loss: 0.02235\n",
      "Epoch 24 validation accuracy: 61.62% validation loss: 0.13893\n",
      "Epoch 25 training accuracy: 63.30% training loss: 0.02695\n",
      "Epoch 25 validation accuracy: 61.77% validation loss: 0.14196\n",
      "Epoch 26 training accuracy: 63.42% training loss: 0.02273\n",
      "Epoch 26 validation accuracy: 61.89% validation loss: 0.13686\n",
      "Early stopped training at epoch 25\n"
     ]
    }
   ],
   "source": [
    "num_epochs = 150\n",
    "\n",
    "# Establish a list for our history\n",
    "train_loss_history = list()\n",
    "val_loss_history = list()\n",
    "\n",
    "# Early stopping parameters\n",
    "early_stop_thresh = 5\n",
    "best_accuracy = -1\n",
    "best_epoch = -1\n",
    "\n",
    "for epoch in range(num_epochs):\n",
    "    model.train()\n",
    "    train_loss = 0.0\n",
    "    train_correct = 0\n",
    "    for i, data in enumerate(train_loader):\n",
    "        # data is a list of [inputs, labels]\n",
    "        inputs, labels = data\n",
    "\n",
    "        # Pass to GPU if available.\n",
    "        inputs, labels = inputs.to(device), labels.to(device)\n",
    "\n",
    "        optimizer.zero_grad()\n",
    "\n",
    "        outputs = model(inputs)\n",
    "        loss = criterion(outputs, labels)\n",
    "        loss.backward()\n",
    "        optimizer.step()\n",
    "\n",
    "        _, preds = torch.max(outputs.data, 1)\n",
    "        train_correct += (preds == labels).sum().item()\n",
    "        train_loss += loss.item()\n",
    "    print(f'Epoch {epoch + 1} training accuracy: {train_correct/len(train_loader):.2f}% training loss: {train_loss/len(train_loader):.5f}')\n",
    "    train_loss_history.append(train_loss/len(train_loader))\n",
    "\n",
    "\n",
    "    val_loss = 0.0\n",
    "    val_correct = 0\n",
    "    model.eval()\n",
    "    for inputs, labels in valid_loader:\n",
    "        inputs, labels = inputs.to(device), labels.to(device)\n",
    "\n",
    "        outputs = model(inputs)\n",
    "        loss = criterion(outputs, labels)\n",
    "\n",
    "        _, preds = torch.max(outputs.data, 1)\n",
    "        val_correct += (preds == labels).sum().item()\n",
    "        val_loss += loss.item()\n",
    "\n",
    "    accuracy = val_correct/len(valid_loader)\n",
    "\n",
    "    print(f'Epoch {epoch + 1} validation accuracy: {accuracy:.2f}% validation loss: {val_loss/len(valid_loader):.5f}')\n",
    "    val_loss_history.append(val_loss/len(valid_loader))\n",
    "\n",
    "    if accuracy > best_accuracy:\n",
    "        best_accuracy = accuracy\n",
    "        best_epoch = epoch\n",
    "    elif epoch - best_epoch > early_stop_thresh:\n",
    "        print(\"Early stopped training at epoch %d\" % epoch)\n",
    "        break  # Terminate the training"
   ]
  },
  {
   "cell_type": "code",
   "execution_count": 21,
   "metadata": {},
   "outputs": [
    {
     "data": {
      "image/png": "[encoded data removed]",
      "text/plain": [
       "<Figure size 640x480 with 1 Axes>"
      ]
     },
     "metadata": {},
     "output_type": "display_data"
    }
   ],
   "source": [
    "# Plot the new training and validation loss history\n",
    "plt.plot(train_loss_history, label=\"Training Loss\")\n",
    "plt.plot(val_loss_history, label=\"Validation Loss\")\n",
    "plt.legend()\n",
    "plt.show()"
   ]
  },
  {
   "cell_type": "code",
   "execution_count": 22,
   "metadata": {},
   "outputs": [
    {
     "name": "stdout",
     "output_type": "stream",
     "text": [
      "Test accuracy: 0.972\n"
     ]
    }
   ],
   "source": [
    "# Print accuracy of new model\n",
    "test_loss = 0\n",
    "accuracy = 0\n",
    "model.to(device)\n",
    "\n",
    "with torch.no_grad():\n",
    "    for inputs, labels in test_loader:\n",
    "        inputs, labels = inputs.to(device), labels.to(device)\n",
    "        \n",
    "        log_ps = model.forward(inputs)\n",
    "        batch_loss = criterion(log_ps, labels)\n",
    "                    \n",
    "        test_loss += batch_loss.item()\n",
    "                    \n",
    "        ps = torch.exp(log_ps)\n",
    "        top_p, top_class = ps.topk(1, dim=1)\n",
    "        equals = top_class == labels.view(*top_class.shape)\n",
    "        accuracy += torch.mean(equals.type(torch.FloatTensor)).item()\n",
    "        \n",
    "print(f\"Test accuracy: {accuracy/len(test_loader):.3f}\")"
   ]
  },
  {
   "cell_type": "markdown",
   "metadata": {},
   "source": [
    "## Further improvement"
   ]
  },
  {
   "cell_type": "code",
   "execution_count": 23,
   "metadata": {},
   "outputs": [
    {
     "data": {
      "text/plain": [
       "NetworkCEL(\n",
       "  (flat): Flatten(start_dim=1, end_dim=-1)\n",
       "  (fc1): Linear(in_features=784, out_features=128, bias=True)\n",
       "  (fc2): Linear(in_features=128, out_features=64, bias=True)\n",
       "  (fc3): Linear(in_features=64, out_features=10, bias=True)\n",
       ")"
      ]
     },
     "execution_count": 23,
     "metadata": {},
     "output_type": "execute_result"
    }
   ],
   "source": [
    "model = NetworkCEL()\n",
    "criterion = nn.CrossEntropyLoss()\n",
    "optimizer = optim.Adam(model.parameters(), lr=0.0005)\n",
    "\n",
    "model.to(device)"
   ]
  },
  {
   "cell_type": "code",
   "execution_count": 24,
   "metadata": {},
   "outputs": [
    {
     "name": "stdout",
     "output_type": "stream",
     "text": [
      "Epoch 1 training accuracy: 54.79% training loss: 0.50979\n",
      "Epoch 1 validation accuracy: 57.86% validation loss: 0.30776\n",
      "Epoch 2 training accuracy: 58.77% training loss: 0.26835\n",
      "Epoch 2 validation accuracy: 58.85% validation loss: 0.24792\n",
      "Epoch 3 training accuracy: 59.96% training loss: 0.20590\n",
      "Epoch 3 validation accuracy: 60.12% validation loss: 0.18924\n",
      "Epoch 4 training accuracy: 60.82% training loss: 0.16368\n",
      "Epoch 4 validation accuracy: 60.75% validation loss: 0.15135\n",
      "Epoch 5 training accuracy: 61.32% training loss: 0.13584\n",
      "Epoch 5 validation accuracy: 61.04% validation loss: 0.13377\n",
      "Epoch 6 training accuracy: 61.76% training loss: 0.11447\n",
      "Epoch 6 validation accuracy: 60.87% validation loss: 0.14127\n",
      "Epoch 7 training accuracy: 61.96% training loss: 0.10339\n",
      "Epoch 7 validation accuracy: 61.36% validation loss: 0.11497\n",
      "Epoch 8 training accuracy: 62.14% training loss: 0.09041\n",
      "Epoch 8 validation accuracy: 61.38% validation loss: 0.11503\n",
      "Epoch 9 training accuracy: 62.38% training loss: 0.07995\n",
      "Epoch 9 validation accuracy: 61.67% validation loss: 0.09897\n",
      "Epoch 10 training accuracy: 62.49% training loss: 0.07152\n",
      "Epoch 10 validation accuracy: 61.53% validation loss: 0.10905\n",
      "Epoch 11 training accuracy: 62.61% training loss: 0.06568\n",
      "Epoch 11 validation accuracy: 61.83% validation loss: 0.09577\n",
      "Epoch 12 training accuracy: 62.71% training loss: 0.05995\n",
      "Epoch 12 validation accuracy: 61.83% validation loss: 0.09889\n",
      "Epoch 13 training accuracy: 62.77% training loss: 0.05466\n",
      "Epoch 13 validation accuracy: 61.73% validation loss: 0.09831\n",
      "Epoch 14 training accuracy: 62.89% training loss: 0.05085\n",
      "Epoch 14 validation accuracy: 61.68% validation loss: 0.10483\n",
      "Epoch 15 training accuracy: 62.99% training loss: 0.04665\n",
      "Epoch 15 validation accuracy: 61.92% validation loss: 0.09652\n",
      "Epoch 16 training accuracy: 63.06% training loss: 0.04038\n",
      "Epoch 16 validation accuracy: 61.83% validation loss: 0.09649\n",
      "Epoch 17 training accuracy: 63.13% training loss: 0.03852\n",
      "Epoch 17 validation accuracy: 61.84% validation loss: 0.09301\n",
      "Epoch 18 training accuracy: 63.25% training loss: 0.03284\n",
      "Epoch 18 validation accuracy: 61.79% validation loss: 0.10383\n",
      "Epoch 19 training accuracy: 63.27% training loss: 0.03151\n",
      "Epoch 19 validation accuracy: 61.90% validation loss: 0.09874\n",
      "Epoch 20 training accuracy: 63.28% training loss: 0.02996\n",
      "Epoch 20 validation accuracy: 61.62% validation loss: 0.11539\n",
      "Epoch 21 training accuracy: 63.31% training loss: 0.02816\n",
      "Epoch 21 validation accuracy: 61.84% validation loss: 0.10589\n",
      "Epoch 22 training accuracy: 63.37% training loss: 0.02569\n",
      "Epoch 22 validation accuracy: 61.74% validation loss: 0.11551\n",
      "Epoch 23 training accuracy: 63.43% training loss: 0.02259\n",
      "Epoch 23 validation accuracy: 61.78% validation loss: 0.10574\n",
      "Epoch 24 training accuracy: 63.48% training loss: 0.02052\n",
      "Epoch 24 validation accuracy: 61.81% validation loss: 0.10701\n",
      "Epoch 25 training accuracy: 63.52% training loss: 0.01903\n",
      "Epoch 25 validation accuracy: 61.98% validation loss: 0.11126\n",
      "Epoch 26 training accuracy: 63.51% training loss: 0.01975\n",
      "Epoch 26 validation accuracy: 61.88% validation loss: 0.10923\n",
      "Epoch 27 training accuracy: 63.57% training loss: 0.01764\n",
      "Epoch 27 validation accuracy: 61.85% validation loss: 0.10928\n",
      "Epoch 28 training accuracy: 63.53% training loss: 0.01848\n",
      "Epoch 28 validation accuracy: 61.91% validation loss: 0.11855\n",
      "Epoch 29 training accuracy: 63.59% training loss: 0.01570\n",
      "Epoch 29 validation accuracy: 62.02% validation loss: 0.11049\n",
      "Epoch 30 training accuracy: 63.57% training loss: 0.01585\n",
      "Epoch 30 validation accuracy: 61.99% validation loss: 0.11390\n",
      "Epoch 31 training accuracy: 63.66% training loss: 0.01294\n",
      "Epoch 31 validation accuracy: 61.92% validation loss: 0.11459\n",
      "Epoch 32 training accuracy: 63.60% training loss: 0.01511\n",
      "Epoch 32 validation accuracy: 61.89% validation loss: 0.12078\n",
      "Epoch 33 training accuracy: 63.62% training loss: 0.01502\n",
      "Epoch 33 validation accuracy: 62.06% validation loss: 0.10876\n",
      "Epoch 34 training accuracy: 63.65% training loss: 0.01219\n",
      "Epoch 34 validation accuracy: 61.96% validation loss: 0.11040\n",
      "Epoch 35 training accuracy: 63.68% training loss: 0.01203\n",
      "Epoch 35 validation accuracy: 61.86% validation loss: 0.12427\n",
      "Epoch 36 training accuracy: 63.66% training loss: 0.01194\n",
      "Epoch 36 validation accuracy: 61.71% validation loss: 0.14573\n",
      "Epoch 37 training accuracy: 63.63% training loss: 0.01240\n",
      "Epoch 37 validation accuracy: 61.75% validation loss: 0.14379\n",
      "Epoch 38 training accuracy: 63.68% training loss: 0.01062\n",
      "Epoch 38 validation accuracy: 61.87% validation loss: 0.13045\n",
      "Epoch 39 training accuracy: 63.62% training loss: 0.01355\n",
      "Epoch 39 validation accuracy: 61.52% validation loss: 0.17095\n",
      "Epoch 40 training accuracy: 63.71% training loss: 0.00937\n",
      "Epoch 40 validation accuracy: 61.83% validation loss: 0.14340\n",
      "Epoch 41 training accuracy: 63.68% training loss: 0.01051\n",
      "Epoch 41 validation accuracy: 62.08% validation loss: 0.12740\n",
      "Epoch 42 training accuracy: 63.64% training loss: 0.01218\n",
      "Epoch 42 validation accuracy: 61.80% validation loss: 0.15560\n",
      "Epoch 43 training accuracy: 63.78% training loss: 0.00642\n",
      "Epoch 43 validation accuracy: 62.08% validation loss: 0.13793\n",
      "Epoch 44 training accuracy: 63.66% training loss: 0.01143\n",
      "Epoch 44 validation accuracy: 61.79% validation loss: 0.14906\n",
      "Epoch 45 training accuracy: 63.78% training loss: 0.00743\n",
      "Epoch 45 validation accuracy: 62.09% validation loss: 0.12863\n",
      "Epoch 46 training accuracy: 63.72% training loss: 0.00914\n",
      "Epoch 46 validation accuracy: 61.79% validation loss: 0.14771\n",
      "Epoch 47 training accuracy: 63.68% training loss: 0.01047\n",
      "Epoch 47 validation accuracy: 61.97% validation loss: 0.13391\n",
      "Epoch 48 training accuracy: 63.69% training loss: 0.01058\n",
      "Epoch 48 validation accuracy: 62.04% validation loss: 0.13267\n",
      "Epoch 49 training accuracy: 63.82% training loss: 0.00434\n",
      "Epoch 49 validation accuracy: 61.92% validation loss: 0.15014\n",
      "Epoch 50 training accuracy: 63.74% training loss: 0.00846\n",
      "Epoch 50 validation accuracy: 62.03% validation loss: 0.14468\n",
      "Epoch 51 training accuracy: 63.69% training loss: 0.01103\n",
      "Epoch 51 validation accuracy: 62.19% validation loss: 0.13149\n",
      "Epoch 52 training accuracy: 63.74% training loss: 0.00829\n",
      "Epoch 52 validation accuracy: 61.87% validation loss: 0.17073\n",
      "Epoch 53 training accuracy: 63.77% training loss: 0.00696\n",
      "Epoch 53 validation accuracy: 62.27% validation loss: 0.13323\n",
      "Epoch 54 training accuracy: 63.76% training loss: 0.00762\n",
      "Epoch 54 validation accuracy: 61.98% validation loss: 0.14906\n",
      "Epoch 55 training accuracy: 63.78% training loss: 0.00661\n",
      "Epoch 55 validation accuracy: 62.09% validation loss: 0.14314\n",
      "Epoch 56 training accuracy: 63.69% training loss: 0.01107\n",
      "Epoch 56 validation accuracy: 61.89% validation loss: 0.15977\n",
      "Epoch 57 training accuracy: 63.79% training loss: 0.00537\n",
      "Epoch 57 validation accuracy: 62.10% validation loss: 0.14368\n",
      "Epoch 58 training accuracy: 63.72% training loss: 0.00926\n",
      "Epoch 58 validation accuracy: 61.92% validation loss: 0.16657\n",
      "Epoch 59 training accuracy: 63.68% training loss: 0.01059\n",
      "Epoch 59 validation accuracy: 61.78% validation loss: 0.17812\n",
      "Epoch 60 training accuracy: 63.76% training loss: 0.00787\n",
      "Epoch 60 validation accuracy: 62.24% validation loss: 0.13604\n",
      "Epoch 61 training accuracy: 63.89% training loss: 0.00150\n",
      "Epoch 61 validation accuracy: 62.10% validation loss: 0.14678\n",
      "Epoch 62 training accuracy: 63.61% training loss: 0.01493\n",
      "Epoch 62 validation accuracy: 61.98% validation loss: 0.16147\n",
      "Epoch 63 training accuracy: 63.69% training loss: 0.01005\n",
      "Epoch 63 validation accuracy: 61.82% validation loss: 0.17545\n",
      "Epoch 64 training accuracy: 63.87% training loss: 0.00299\n",
      "Epoch 64 validation accuracy: 62.12% validation loss: 0.15042\n",
      "Early stopped training at epoch 63\n"
     ]
    }
   ],
   "source": [
    "num_epochs = 500\n",
    "\n",
    "# Establish a list for our history\n",
    "train_loss_history = list()\n",
    "val_loss_history = list()\n",
    "\n",
    "# Early stopping parameters\n",
    "early_stop_thresh = 10\n",
    "best_accuracy = -1\n",
    "best_epoch = -1\n",
    "\n",
    "for epoch in range(num_epochs):\n",
    "    model.train()\n",
    "    train_loss = 0.0\n",
    "    train_correct = 0\n",
    "    for i, data in enumerate(train_loader):\n",
    "        # data is a list of [inputs, labels]\n",
    "        inputs, labels = data\n",
    "\n",
    "        # Pass to GPU if available.\n",
    "        inputs, labels = inputs.to(device), labels.to(device)\n",
    "\n",
    "        optimizer.zero_grad()\n",
    "\n",
    "        outputs = model(inputs)\n",
    "        loss = criterion(outputs, labels)\n",
    "        loss.backward()\n",
    "        optimizer.step()\n",
    "\n",
    "        _, preds = torch.max(outputs.data, 1)\n",
    "        train_correct += (preds == labels).sum().item()\n",
    "        train_loss += loss.item()\n",
    "    print(f'Epoch {epoch + 1} training accuracy: {train_correct/len(train_loader):.2f}% training loss: {train_loss/len(train_loader):.5f}')\n",
    "    train_loss_history.append(train_loss/len(train_loader))\n",
    "\n",
    "\n",
    "    val_loss = 0.0\n",
    "    val_correct = 0\n",
    "    model.eval()\n",
    "    for inputs, labels in valid_loader:\n",
    "        inputs, labels = inputs.to(device), labels.to(device)\n",
    "\n",
    "        outputs = model(inputs)\n",
    "        loss = criterion(outputs, labels)\n",
    "\n",
    "        _, preds = torch.max(outputs.data, 1)\n",
    "        val_correct += (preds == labels).sum().item()\n",
    "        val_loss += loss.item()\n",
    "\n",
    "    accuracy = val_correct/len(valid_loader)\n",
    "\n",
    "    print(f'Epoch {epoch + 1} validation accuracy: {accuracy:.2f}% validation loss: {val_loss/len(valid_loader):.5f}')\n",
    "    val_loss_history.append(val_loss/len(valid_loader))\n",
    "\n",
    "    if accuracy > best_accuracy:\n",
    "        best_accuracy = accuracy\n",
    "        best_epoch = epoch\n",
    "    elif epoch - best_epoch > early_stop_thresh:\n",
    "        print(\"Early stopped training at epoch %d\" % epoch)\n",
    "        break  # Terminate the training"
   ]
  },
  {
   "cell_type": "code",
   "execution_count": 25,
   "metadata": {},
   "outputs": [
    {
     "data": {
      "image/png": "[encoded data removed]",
      "text/plain": [
       "<Figure size 640x480 with 1 Axes>"
      ]
     },
     "metadata": {},
     "output_type": "display_data"
    }
   ],
   "source": [
    "# Plot the new training and validation loss history\n",
    "plt.plot(train_loss_history, label=\"Training Loss\")\n",
    "plt.plot(val_loss_history, label=\"Validation Loss\")\n",
    "plt.legend()\n",
    "plt.show()"
   ]
  },
  {
   "cell_type": "code",
   "execution_count": 26,
   "metadata": {},
   "outputs": [
    {
     "name": "stdout",
     "output_type": "stream",
     "text": [
      "Test accuracy: 0.975\n"
     ]
    }
   ],
   "source": [
    "# Print accuracy of new model\n",
    "test_loss = 0\n",
    "accuracy = 0\n",
    "model.to(device)\n",
    "\n",
    "with torch.no_grad():\n",
    "    for inputs, labels in test_loader:\n",
    "        inputs, labels = inputs.to(device), labels.to(device)\n",
    "        \n",
    "        log_ps = model.forward(inputs)\n",
    "        batch_loss = criterion(log_ps, labels)\n",
    "                    \n",
    "        test_loss += batch_loss.item()\n",
    "                    \n",
    "        ps = torch.exp(log_ps)\n",
    "        top_p, top_class = ps.topk(1, dim=1)\n",
    "        equals = top_class == labels.view(*top_class.shape)\n",
    "        accuracy += torch.mean(equals.type(torch.FloatTensor)).item()\n",
    "        \n",
    "print(f\"Test accuracy: {accuracy/len(test_loader):.3f}\")"
   ]
  },
  {
   "attachments": {},
   "cell_type": "markdown",
   "metadata": {},
   "source": [
    "## Saving your model\n",
    "Using `torch.save`, save your model for future loading."
   ]
  },
  {
   "cell_type": "code",
   "execution_count": 27,
   "metadata": {},
   "outputs": [],
   "source": [
    "torch.save(model, 'mnist_digits.pth')\n",
    "torch.save(model.state_dict(), 'mnist_digits_statedict.pth')"
   ]
  },
  {
   "cell_type": "markdown",
   "metadata": {},
   "source": [
    "## Model classification test"
   ]
  },
  {
   "cell_type": "code",
   "execution_count": 30,
   "metadata": {},
   "outputs": [],
   "source": [
    "def view_classify(img, ps):\n",
    "    ''' Function for viewing an image and it's predicted classes.\n",
    "    '''\n",
    "    ps = ps.data.numpy().squeeze()\n",
    "\n",
    "    fig, (ax1, ax2) = plt.subplots(figsize=(6,9), ncols=2)\n",
    "    ax1.imshow(img.resize_(1, 28, 28).cpu().numpy().squeeze())\n",
    "    ax1.axis('off')\n",
    "    ax2.barh(np.arange(10), ps)\n",
    "    ax2.set_aspect(0.1)\n",
    "    ax2.set_yticks(np.arange(10))\n",
    "    ax2.set_yticklabels(np.arange(10))\n",
    "    ax2.set_title('Class Probability')\n",
    "    ax2.set_xlim(0, 1.1)\n",
    "\n",
    "    plt.tight_layout()"
   ]
  },
  {
   "cell_type": "code",
   "execution_count": 34,
   "metadata": {},
   "outputs": [
    {
     "data": {
      "image/png": "[encoded data removed]",
      "text/plain": [
       "<Figure size 600x900 with 2 Axes>"
      ]
     },
     "metadata": {},
     "output_type": "display_data"
    }
   ],
   "source": [
    "images, labels = next(iter(train_loader))\n",
    "inputs, labels = inputs.to(device), labels.to(device)\n",
    "\n",
    "img = images[0].view(1, 784)\n",
    "img = img.to(device)\n",
    "\n",
    "with torch.no_grad():\n",
    "    logps = model.forward(img)\n",
    "\n",
    "# Output of the network are logits, need to take softmax for probabilities\n",
    "ps = torch.exp(logps).cpu()\n",
    "view_classify(img.view(1, 28, 28), ps)"
   ]
  }
 ],
 "metadata": {
  "kernelspec": {
   "display_name": "Python 3",
   "language": "python",
   "name": "python3"
  },
  "language_info": {
   "codemirror_mode": {
    "name": "ipython",
    "version": 3
   },
   "file_extension": ".py",
   "mimetype": "text/x-python",
   "name": "python",
   "nbconvert_exporter": "python",
   "pygments_lexer": "ipython3",
   "version": "3.8.15"
  }
 },
 "nbformat": 4,
 "nbformat_minor": 4
}
